{
 "cells": [
  {
   "cell_type": "markdown",
   "id": "5c38efa4",
   "metadata": {},
   "source": [
    "# Implementing Recurrent Neural Network - LSTM "
   ]
  },
  {
   "cell_type": "markdown",
   "id": "6431335b-30fc-4a3d-b5d3-978dfe0fb71b",
   "metadata": {},
   "source": [
    "#### Installing essential libraries"
   ]
  },
  {
   "cell_type": "code",
   "execution_count": 3,
   "id": "a6c15b50",
   "metadata": {},
   "outputs": [],
   "source": [
    "from tensorflow.keras.layers import LSTM,BatchNormalization\n",
    "import tensorflow as tf\n",
    "from tensorflow.keras.callbacks import EarlyStopping, ReduceLROnPlateau\n",
    "from tensorflow.keras.models import Sequential\n",
    "from tensorflow.keras.layers import Dense, Dropout, BatchNormalization\n",
    "from tensorflow.keras.optimizers import Adam\n",
    "from sklearn.preprocessing import StandardScaler\n",
    "from imblearn.over_sampling import SMOTE\n",
    "from sklearn.utils.class_weight import compute_class_weight\n",
    "from sklearn.model_selection import train_test_split\n",
    "import sklearn\n",
    "import numpy as np\n",
    "import pandas as pd\n",
    "import matplotlib.pyplot as plt\n",
    "import seaborn as sns"
   ]
  },
  {
   "cell_type": "markdown",
   "id": "8035891e-0017-4880-b80b-8b40214546a7",
   "metadata": {},
   "source": [
    "#### Reading the data"
   ]
  },
  {
   "cell_type": "code",
   "execution_count": 5,
   "id": "6847235c-16df-42d8-9987-da040148cbb2",
   "metadata": {},
   "outputs": [
    {
     "name": "stdout",
     "output_type": "stream",
     "text": [
      "(7043, 37)\n"
     ]
    }
   ],
   "source": [
    "df=pd.read_csv(\"C:/Users/riddh/OneDrive/Documents/Projects/Churn/Preprocessed_data.xls\")\n",
    "print(df.shape)"
   ]
  },
  {
   "cell_type": "markdown",
   "id": "83f6f46d-e903-4d8d-9742-2f46a8e80202",
   "metadata": {},
   "source": [
    "#### Splitting the data"
   ]
  },
  {
   "cell_type": "code",
   "execution_count": 7,
   "id": "49f345fe-62bf-488b-9a97-403ed222aefc",
   "metadata": {},
   "outputs": [],
   "source": [
    "X = df.drop('Churn', axis=1)\n",
    "y = df['Churn']\n",
    "\n",
    "# Split data into training, validation, and test sets\n",
    "X_train, X_temp, y_train, y_temp = train_test_split(X, y, test_size=0.3, random_state=42)\n",
    "X_val, X_test, y_val, y_test = train_test_split(X_temp, y_temp, test_size=0.5, random_state=42)"
   ]
  },
  {
   "cell_type": "markdown",
   "id": "a86681e6-cede-4b01-936f-c6aa443ac392",
   "metadata": {},
   "source": [
    "#### Dimensions of the split datasets"
   ]
  },
  {
   "cell_type": "code",
   "execution_count": 9,
   "id": "1a60bfe4",
   "metadata": {},
   "outputs": [
    {
     "name": "stdout",
     "output_type": "stream",
     "text": [
      "X_train: (4930, 36)\n",
      "y_train: (4930,)\n",
      "X_test: (1057, 36)\n",
      "y_test: (1057,)\n"
     ]
    }
   ],
   "source": [
    "# Check the dimension of the sets\n",
    "print('X_train:',np.shape(X_train))\n",
    "print('y_train:',np.shape(y_train))\n",
    "print('X_test:',np.shape(X_test))\n",
    "print('y_test:',np.shape(y_test))"
   ]
  },
  {
   "cell_type": "markdown",
   "id": "378101a5-0739-4dcb-ab7b-f90cb037b1aa",
   "metadata": {},
   "source": [
    "#### Checking the number of counts for each class"
   ]
  },
  {
   "cell_type": "code",
   "execution_count": 11,
   "id": "53eb59ee",
   "metadata": {},
   "outputs": [
    {
     "name": "stdout",
     "output_type": "stream",
     "text": [
      "{0: 3635, 1: 1295}\n"
     ]
    }
   ],
   "source": [
    "unique, counts = np.unique(y_train, return_counts=True)\n",
    "class_distribution = dict(zip(unique, counts))\n",
    "print(class_distribution)"
   ]
  },
  {
   "cell_type": "code",
   "execution_count": 12,
   "id": "a7e9e1dc",
   "metadata": {},
   "outputs": [],
   "source": [
    "# Convert to NumPy arrays and reshape input to be 3D [samples, timesteps, features]\n",
    "X_train = np.array(X_train).reshape((X_train.shape[0], 1, X_train.shape[1]))\n",
    "X_val = np.array(X_val).reshape((X_val.shape[0], 1, X_val.shape[1]))\n",
    "X_test = np.array(X_test).reshape((X_test.shape[0], 1, X_test.shape[1]))"
   ]
  },
  {
   "cell_type": "code",
   "execution_count": 13,
   "id": "c128b974",
   "metadata": {
    "scrolled": true
   },
   "outputs": [
    {
     "name": "stdout",
     "output_type": "stream",
     "text": [
      "X_train: (4930, 1, 36)\n",
      "y_train: (4930,)\n",
      "X_val: (1056, 1, 36)\n",
      "y_val: (1056,)\n",
      "X_test: (1057, 1, 36)\n",
      "y_test: (1057,)\n"
     ]
    }
   ],
   "source": [
    "# Check the dimensions of the sets\n",
    "print('X_train:', np.shape(X_train))\n",
    "print('y_train:', np.shape(y_train))\n",
    "print('X_val:', np.shape(X_val))\n",
    "print('y_val:', np.shape(y_val))\n",
    "print('X_test:', np.shape(X_test))\n",
    "print('y_test:', np.shape(y_test))"
   ]
  },
  {
   "cell_type": "code",
   "execution_count": 14,
   "id": "4e876978-26cb-4185-832d-651366016e48",
   "metadata": {},
   "outputs": [],
   "source": [
    "X_train_cleaned = np.array([[int(x) if isinstance(x, bool) else x for x in row] for row in X_train])"
   ]
  },
  {
   "cell_type": "code",
   "execution_count": 15,
   "id": "14ab7bf3-8c5b-4bbc-aa08-ea587cd3d811",
   "metadata": {},
   "outputs": [],
   "source": [
    "X_train_cleaned = np.array(X_train_cleaned, dtype=np.float32)"
   ]
  },
  {
   "cell_type": "code",
   "execution_count": 16,
   "id": "5b794ec2-c1cd-4a79-815b-98b861f346e6",
   "metadata": {},
   "outputs": [],
   "source": [
    "X_train = tf.convert_to_tensor(X_train_cleaned)"
   ]
  },
  {
   "cell_type": "code",
   "execution_count": 17,
   "id": "1a968ee5-52ee-472e-9c84-22ccb96a3965",
   "metadata": {},
   "outputs": [
    {
     "name": "stdout",
     "output_type": "stream",
     "text": [
      "<class 'tensorflow.python.framework.ops.EagerTensor'> tf.Tensor(\n",
      "[[1.         0.         1.         1.         0.8807347  1.\n",
      "  1.         0.19736524 0.656426   0.         1.         0.\n",
      "  0.         0.         0.         0.         1.         0.\n",
      "  0.         0.         1.         0.         1.         0.\n",
      "  0.         1.         0.         0.         1.         0.\n",
      "  0.17382641 0.57813716 0.7756936  0.17382641 0.03895304 0.19736524]], shape=(1, 36), dtype=float32)\n",
      "<class 'tensorflow.python.framework.ops.EagerTensor'> tf.Tensor(\n",
      "[[ 1.          0.          0.          0.         -1.2774446   1.\n",
      "   1.          0.52473927 -0.9725857   0.          0.          1.\n",
      "   0.          0.          0.          0.          0.          0.\n",
      "   0.          0.          0.          0.          1.          0.\n",
      "   0.          0.          0.          0.          1.          0.\n",
      "  -0.6703253   1.2424244   1.6318647  -0.6703253   0.2753513   0.52473927]], shape=(1, 36), dtype=float32)\n",
      "<class 'tensorflow.python.framework.ops.EagerTensor'> tf.Tensor(\n",
      "[[ 1.          0.          0.          0.         -0.78880024  1.\n",
      "   0.         -1.5109621  -0.89350724  0.          0.          0.\n",
      "   1.          1.          0.          1.          0.          1.\n",
      "   0.          1.          0.          1.          0.          1.\n",
      "   0.          1.          0.          1.          0.          0.\n",
      "   1.1918472   0.7047987   0.6222058   1.1918472   2.2830064  -1.5109621 ]], shape=(1, 36), dtype=float32)\n",
      "<class 'tensorflow.python.framework.ops.EagerTensor'> tf.Tensor(\n",
      "[[ 0.          1.          1.          1.         -0.34087622  1.\n",
      "   1.          1.0565143  -0.00876461  0.          0.          1.\n",
      "   0.          0.          0.          0.          0.          0.\n",
      "   1.          0.          0.          0.          1.          0.\n",
      "   1.          0.          1.          0.          1.          0.\n",
      "  -0.3601406   0.00298765  0.1161966  -0.3601406   1.1162224   1.0565143 ]], shape=(1, 36), dtype=float32)\n",
      "<class 'tensorflow.python.framework.ops.EagerTensor'> tf.Tensor(\n",
      "[[ 0.          1.          0.          0.         -1.0738428   1.\n",
      "   1.          0.31036744 -0.80906415  0.          0.          1.\n",
      "   0.          0.          1.          0.          0.          0.\n",
      "   0.          0.          0.          0.          0.          0.\n",
      "   0.          0.          0.          0.          1.          0.\n",
      "  -0.3332858   0.8688077   1.1531383  -0.3332858   0.09632794  0.31036744]], shape=(1, 36), dtype=float32)\n"
     ]
    }
   ],
   "source": [
    "for i in range(5):  # Inspect the first 5 elements\n",
    "    print(type(X_train[i]), X_train[i])\n"
   ]
  },
  {
   "cell_type": "code",
   "execution_count": 18,
   "id": "625251cc-018e-450f-ba45-a79112a6656b",
   "metadata": {},
   "outputs": [],
   "source": [
    "# Ensure consistent data types (convert to float32)\n",
    "X_train = np.array(X_train, dtype=np.float32)\n",
    "X_val = np.array(X_val, dtype=np.float32)\n",
    "X_test = np.array(X_test, dtype=np.float32)\n",
    "\n",
    "# Convert to TensorFlow tensors\n",
    "X_train= tf.convert_to_tensor(X_train)\n",
    "X_val= tf.convert_to_tensor(X_val)\n",
    "X_test = tf.convert_to_tensor(X_test)"
   ]
  },
  {
   "cell_type": "markdown",
   "id": "f98d61f0",
   "metadata": {},
   "source": [
    "#### Model Designing"
   ]
  },
  {
   "cell_type": "code",
   "execution_count": 20,
   "id": "34c56875",
   "metadata": {},
   "outputs": [
    {
     "name": "stderr",
     "output_type": "stream",
     "text": [
      "C:\\Users\\riddh\\anaconda\\Lib\\site-packages\\keras\\src\\layers\\rnn\\rnn.py:204: UserWarning: Do not pass an `input_shape`/`input_dim` argument to a layer. When using Sequential models, prefer using an `Input(shape)` object as the first layer in the model instead.\n",
      "  super().__init__(**kwargs)\n"
     ]
    }
   ],
   "source": [
    "# Model Architecture\n",
    "model = Sequential()\n",
    "model.add(LSTM(64, input_shape=(X_train.shape[1], X_train.shape[2]), activation='sigmoid', return_sequences=True,))\n",
    "model.add(LSTM(32, activation='sigmoid'))\n",
    "model.add(Dense(16, activation='sigmoid'))\n",
    "model.add(Dense(1, activation='sigmoid'))"
   ]
  },
  {
   "cell_type": "code",
   "execution_count": 21,
   "id": "dc6ff381",
   "metadata": {},
   "outputs": [],
   "source": [
    "# Compile Model\n",
    "model.compile(optimizer=Adam(learning_rate=0.0001), loss='binary_crossentropy', metrics=['accuracy'])"
   ]
  },
  {
   "cell_type": "code",
   "execution_count": 22,
   "id": "191cc36c",
   "metadata": {},
   "outputs": [
    {
     "name": "stdout",
     "output_type": "stream",
     "text": [
      "Epoch 1/500\n",
      "\u001b[1m155/155\u001b[0m \u001b[32m━━━━━━━━━━━━━━━━━━━━\u001b[0m\u001b[37m\u001b[0m \u001b[1m3s\u001b[0m 4ms/step - accuracy: 0.7332 - loss: 0.5938 - val_accuracy: 0.7367 - val_loss: 0.5792 - learning_rate: 1.0000e-04\n",
      "Epoch 2/500\n",
      "\u001b[1m155/155\u001b[0m \u001b[32m━━━━━━━━━━━━━━━━━━━━\u001b[0m\u001b[37m\u001b[0m \u001b[1m0s\u001b[0m 2ms/step - accuracy: 0.7388 - loss: 0.5755 - val_accuracy: 0.7367 - val_loss: 0.5744 - learning_rate: 1.0000e-04\n",
      "Epoch 3/500\n",
      "\u001b[1m155/155\u001b[0m \u001b[32m━━━━━━━━━━━━━━━━━━━━\u001b[0m\u001b[37m\u001b[0m \u001b[1m0s\u001b[0m 2ms/step - accuracy: 0.7339 - loss: 0.5766 - val_accuracy: 0.7367 - val_loss: 0.5716 - learning_rate: 1.0000e-04\n",
      "Epoch 4/500\n",
      "\u001b[1m155/155\u001b[0m \u001b[32m━━━━━━━━━━━━━━━━━━━━\u001b[0m\u001b[37m\u001b[0m \u001b[1m0s\u001b[0m 2ms/step - accuracy: 0.7365 - loss: 0.5715 - val_accuracy: 0.7367 - val_loss: 0.5683 - learning_rate: 1.0000e-04\n",
      "Epoch 5/500\n",
      "\u001b[1m155/155\u001b[0m \u001b[32m━━━━━━━━━━━━━━━━━━━━\u001b[0m\u001b[37m\u001b[0m \u001b[1m0s\u001b[0m 2ms/step - accuracy: 0.7405 - loss: 0.5638 - val_accuracy: 0.7367 - val_loss: 0.5637 - learning_rate: 1.0000e-04\n",
      "Epoch 6/500\n",
      "\u001b[1m155/155\u001b[0m \u001b[32m━━━━━━━━━━━━━━━━━━━━\u001b[0m\u001b[37m\u001b[0m \u001b[1m0s\u001b[0m 2ms/step - accuracy: 0.7450 - loss: 0.5546 - val_accuracy: 0.7367 - val_loss: 0.5569 - learning_rate: 1.0000e-04\n",
      "Epoch 7/500\n",
      "\u001b[1m155/155\u001b[0m \u001b[32m━━━━━━━━━━━━━━━━━━━━\u001b[0m\u001b[37m\u001b[0m \u001b[1m0s\u001b[0m 3ms/step - accuracy: 0.7337 - loss: 0.5592 - val_accuracy: 0.7367 - val_loss: 0.5475 - learning_rate: 1.0000e-04\n",
      "Epoch 8/500\n",
      "\u001b[1m155/155\u001b[0m \u001b[32m━━━━━━━━━━━━━━━━━━━━\u001b[0m\u001b[37m\u001b[0m \u001b[1m0s\u001b[0m 2ms/step - accuracy: 0.7340 - loss: 0.5486 - val_accuracy: 0.7367 - val_loss: 0.5351 - learning_rate: 1.0000e-04\n",
      "Epoch 9/500\n",
      "\u001b[1m155/155\u001b[0m \u001b[32m━━━━━━━━━━━━━━━━━━━━\u001b[0m\u001b[37m\u001b[0m \u001b[1m1s\u001b[0m 3ms/step - accuracy: 0.7453 - loss: 0.5275 - val_accuracy: 0.7367 - val_loss: 0.5204 - learning_rate: 1.0000e-04\n",
      "Epoch 10/500\n",
      "\u001b[1m155/155\u001b[0m \u001b[32m━━━━━━━━━━━━━━━━━━━━\u001b[0m\u001b[37m\u001b[0m \u001b[1m0s\u001b[0m 3ms/step - accuracy: 0.7227 - loss: 0.5317 - val_accuracy: 0.7367 - val_loss: 0.5045 - learning_rate: 1.0000e-04\n",
      "Epoch 11/500\n",
      "\u001b[1m155/155\u001b[0m \u001b[32m━━━━━━━━━━━━━━━━━━━━\u001b[0m\u001b[37m\u001b[0m \u001b[1m0s\u001b[0m 2ms/step - accuracy: 0.7486 - loss: 0.4981 - val_accuracy: 0.7367 - val_loss: 0.4888 - learning_rate: 1.0000e-04\n",
      "Epoch 12/500\n",
      "\u001b[1m155/155\u001b[0m \u001b[32m━━━━━━━━━━━━━━━━━━━━\u001b[0m\u001b[37m\u001b[0m \u001b[1m0s\u001b[0m 2ms/step - accuracy: 0.7350 - loss: 0.4961 - val_accuracy: 0.7367 - val_loss: 0.4750 - learning_rate: 1.0000e-04\n",
      "Epoch 13/500\n",
      "\u001b[1m155/155\u001b[0m \u001b[32m━━━━━━━━━━━━━━━━━━━━\u001b[0m\u001b[37m\u001b[0m \u001b[1m0s\u001b[0m 3ms/step - accuracy: 0.7507 - loss: 0.4732 - val_accuracy: 0.7604 - val_loss: 0.4632 - learning_rate: 1.0000e-04\n",
      "Epoch 14/500\n",
      "\u001b[1m155/155\u001b[0m \u001b[32m━━━━━━━━━━━━━━━━━━━━\u001b[0m\u001b[37m\u001b[0m \u001b[1m0s\u001b[0m 2ms/step - accuracy: 0.7644 - loss: 0.4753 - val_accuracy: 0.7841 - val_loss: 0.4531 - learning_rate: 1.0000e-04\n",
      "Epoch 15/500\n",
      "\u001b[1m155/155\u001b[0m \u001b[32m━━━━━━━━━━━━━━━━━━━━\u001b[0m\u001b[37m\u001b[0m \u001b[1m0s\u001b[0m 2ms/step - accuracy: 0.7722 - loss: 0.4686 - val_accuracy: 0.7907 - val_loss: 0.4455 - learning_rate: 1.0000e-04\n",
      "Epoch 16/500\n",
      "\u001b[1m155/155\u001b[0m \u001b[32m━━━━━━━━━━━━━━━━━━━━\u001b[0m\u001b[37m\u001b[0m \u001b[1m0s\u001b[0m 2ms/step - accuracy: 0.7785 - loss: 0.4729 - val_accuracy: 0.7955 - val_loss: 0.4393 - learning_rate: 1.0000e-04\n",
      "Epoch 17/500\n",
      "\u001b[1m155/155\u001b[0m \u001b[32m━━━━━━━━━━━━━━━━━━━━\u001b[0m\u001b[37m\u001b[0m \u001b[1m0s\u001b[0m 2ms/step - accuracy: 0.8006 - loss: 0.4384 - val_accuracy: 0.7992 - val_loss: 0.4339 - learning_rate: 1.0000e-04\n",
      "Epoch 18/500\n",
      "\u001b[1m155/155\u001b[0m \u001b[32m━━━━━━━━━━━━━━━━━━━━\u001b[0m\u001b[37m\u001b[0m \u001b[1m0s\u001b[0m 2ms/step - accuracy: 0.7938 - loss: 0.4566 - val_accuracy: 0.8040 - val_loss: 0.4299 - learning_rate: 1.0000e-04\n",
      "Epoch 19/500\n",
      "\u001b[1m155/155\u001b[0m \u001b[32m━━━━━━━━━━━━━━━━━━━━\u001b[0m\u001b[37m\u001b[0m \u001b[1m1s\u001b[0m 2ms/step - accuracy: 0.7883 - loss: 0.4525 - val_accuracy: 0.8021 - val_loss: 0.4263 - learning_rate: 1.0000e-04\n",
      "Epoch 20/500\n",
      "\u001b[1m155/155\u001b[0m \u001b[32m━━━━━━━━━━━━━━━━━━━━\u001b[0m\u001b[37m\u001b[0m \u001b[1m0s\u001b[0m 2ms/step - accuracy: 0.8046 - loss: 0.4350 - val_accuracy: 0.8030 - val_loss: 0.4235 - learning_rate: 1.0000e-04\n",
      "Epoch 21/500\n",
      "\u001b[1m155/155\u001b[0m \u001b[32m━━━━━━━━━━━━━━━━━━━━\u001b[0m\u001b[37m\u001b[0m \u001b[1m0s\u001b[0m 2ms/step - accuracy: 0.8018 - loss: 0.4435 - val_accuracy: 0.8059 - val_loss: 0.4210 - learning_rate: 1.0000e-04\n",
      "Epoch 22/500\n",
      "\u001b[1m155/155\u001b[0m \u001b[32m━━━━━━━━━━━━━━━━━━━━\u001b[0m\u001b[37m\u001b[0m \u001b[1m0s\u001b[0m 2ms/step - accuracy: 0.7963 - loss: 0.4472 - val_accuracy: 0.8078 - val_loss: 0.4189 - learning_rate: 1.0000e-04\n",
      "Epoch 23/500\n",
      "\u001b[1m155/155\u001b[0m \u001b[32m━━━━━━━━━━━━━━━━━━━━\u001b[0m\u001b[37m\u001b[0m \u001b[1m0s\u001b[0m 2ms/step - accuracy: 0.7999 - loss: 0.4387 - val_accuracy: 0.8078 - val_loss: 0.4171 - learning_rate: 1.0000e-04\n",
      "Epoch 24/500\n",
      "\u001b[1m155/155\u001b[0m \u001b[32m━━━━━━━━━━━━━━━━━━━━\u001b[0m\u001b[37m\u001b[0m \u001b[1m0s\u001b[0m 3ms/step - accuracy: 0.8015 - loss: 0.4325 - val_accuracy: 0.8059 - val_loss: 0.4156 - learning_rate: 1.0000e-04\n",
      "Epoch 25/500\n",
      "\u001b[1m155/155\u001b[0m \u001b[32m━━━━━━━━━━━━━━━━━━━━\u001b[0m\u001b[37m\u001b[0m \u001b[1m0s\u001b[0m 2ms/step - accuracy: 0.8030 - loss: 0.4398 - val_accuracy: 0.8078 - val_loss: 0.4140 - learning_rate: 1.0000e-04\n",
      "Epoch 26/500\n",
      "\u001b[1m155/155\u001b[0m \u001b[32m━━━━━━━━━━━━━━━━━━━━\u001b[0m\u001b[37m\u001b[0m \u001b[1m0s\u001b[0m 2ms/step - accuracy: 0.8070 - loss: 0.4312 - val_accuracy: 0.8097 - val_loss: 0.4126 - learning_rate: 1.0000e-04\n",
      "Epoch 27/500\n",
      "\u001b[1m155/155\u001b[0m \u001b[32m━━━━━━━━━━━━━━━━━━━━\u001b[0m\u001b[37m\u001b[0m \u001b[1m0s\u001b[0m 2ms/step - accuracy: 0.7976 - loss: 0.4324 - val_accuracy: 0.8116 - val_loss: 0.4114 - learning_rate: 1.0000e-04\n",
      "Epoch 28/500\n",
      "\u001b[1m155/155\u001b[0m \u001b[32m━━━━━━━━━━━━━━━━━━━━\u001b[0m\u001b[37m\u001b[0m \u001b[1m0s\u001b[0m 2ms/step - accuracy: 0.7954 - loss: 0.4462 - val_accuracy: 0.8116 - val_loss: 0.4104 - learning_rate: 1.0000e-04\n",
      "Epoch 29/500\n",
      "\u001b[1m155/155\u001b[0m \u001b[32m━━━━━━━━━━━━━━━━━━━━\u001b[0m\u001b[37m\u001b[0m \u001b[1m0s\u001b[0m 2ms/step - accuracy: 0.7962 - loss: 0.4403 - val_accuracy: 0.8125 - val_loss: 0.4094 - learning_rate: 1.0000e-04\n",
      "Epoch 30/500\n",
      "\u001b[1m155/155\u001b[0m \u001b[32m━━━━━━━━━━━━━━━━━━━━\u001b[0m\u001b[37m\u001b[0m \u001b[1m0s\u001b[0m 2ms/step - accuracy: 0.8018 - loss: 0.4362 - val_accuracy: 0.8125 - val_loss: 0.4084 - learning_rate: 1.0000e-04\n",
      "Epoch 31/500\n",
      "\u001b[1m155/155\u001b[0m \u001b[32m━━━━━━━━━━━━━━━━━━━━\u001b[0m\u001b[37m\u001b[0m \u001b[1m0s\u001b[0m 2ms/step - accuracy: 0.8026 - loss: 0.4342 - val_accuracy: 0.8134 - val_loss: 0.4077 - learning_rate: 1.0000e-04\n",
      "Epoch 32/500\n",
      "\u001b[1m155/155\u001b[0m \u001b[32m━━━━━━━━━━━━━━━━━━━━\u001b[0m\u001b[37m\u001b[0m \u001b[1m0s\u001b[0m 2ms/step - accuracy: 0.8002 - loss: 0.4416 - val_accuracy: 0.8134 - val_loss: 0.4069 - learning_rate: 1.0000e-04\n",
      "Epoch 33/500\n",
      "\u001b[1m155/155\u001b[0m \u001b[32m━━━━━━━━━━━━━━━━━━━━\u001b[0m\u001b[37m\u001b[0m \u001b[1m0s\u001b[0m 2ms/step - accuracy: 0.8028 - loss: 0.4264 - val_accuracy: 0.8125 - val_loss: 0.4063 - learning_rate: 1.0000e-04\n",
      "Epoch 34/500\n",
      "\u001b[1m155/155\u001b[0m \u001b[32m━━━━━━━━━━━━━━━━━━━━\u001b[0m\u001b[37m\u001b[0m \u001b[1m0s\u001b[0m 2ms/step - accuracy: 0.8060 - loss: 0.4268 - val_accuracy: 0.8163 - val_loss: 0.4058 - learning_rate: 1.0000e-04\n",
      "Epoch 35/500\n",
      "\u001b[1m155/155\u001b[0m \u001b[32m━━━━━━━━━━━━━━━━━━━━\u001b[0m\u001b[37m\u001b[0m \u001b[1m0s\u001b[0m 2ms/step - accuracy: 0.8134 - loss: 0.4192 - val_accuracy: 0.8125 - val_loss: 0.4053 - learning_rate: 1.0000e-04\n",
      "Epoch 36/500\n",
      "\u001b[1m155/155\u001b[0m \u001b[32m━━━━━━━━━━━━━━━━━━━━\u001b[0m\u001b[37m\u001b[0m \u001b[1m0s\u001b[0m 2ms/step - accuracy: 0.8085 - loss: 0.4292 - val_accuracy: 0.8134 - val_loss: 0.4048 - learning_rate: 1.0000e-04\n",
      "Epoch 37/500\n",
      "\u001b[1m155/155\u001b[0m \u001b[32m━━━━━━━━━━━━━━━━━━━━\u001b[0m\u001b[37m\u001b[0m \u001b[1m0s\u001b[0m 2ms/step - accuracy: 0.7991 - loss: 0.4286 - val_accuracy: 0.8125 - val_loss: 0.4044 - learning_rate: 1.0000e-04\n",
      "Epoch 38/500\n",
      "\u001b[1m155/155\u001b[0m \u001b[32m━━━━━━━━━━━━━━━━━━━━\u001b[0m\u001b[37m\u001b[0m \u001b[1m0s\u001b[0m 2ms/step - accuracy: 0.8069 - loss: 0.4312 - val_accuracy: 0.8134 - val_loss: 0.4041 - learning_rate: 1.0000e-04\n",
      "Epoch 39/500\n",
      "\u001b[1m155/155\u001b[0m \u001b[32m━━━━━━━━━━━━━━━━━━━━\u001b[0m\u001b[37m\u001b[0m \u001b[1m0s\u001b[0m 2ms/step - accuracy: 0.7997 - loss: 0.4267 - val_accuracy: 0.8134 - val_loss: 0.4037 - learning_rate: 1.0000e-04\n",
      "Epoch 40/500\n",
      "\u001b[1m155/155\u001b[0m \u001b[32m━━━━━━━━━━━━━━━━━━━━\u001b[0m\u001b[37m\u001b[0m \u001b[1m0s\u001b[0m 2ms/step - accuracy: 0.8119 - loss: 0.4216 - val_accuracy: 0.8163 - val_loss: 0.4035 - learning_rate: 1.0000e-04\n",
      "Epoch 41/500\n",
      "\u001b[1m155/155\u001b[0m \u001b[32m━━━━━━━━━━━━━━━━━━━━\u001b[0m\u001b[37m\u001b[0m \u001b[1m0s\u001b[0m 2ms/step - accuracy: 0.8165 - loss: 0.4122 - val_accuracy: 0.8172 - val_loss: 0.4032 - learning_rate: 1.0000e-04\n",
      "Epoch 42/500\n",
      "\u001b[1m155/155\u001b[0m \u001b[32m━━━━━━━━━━━━━━━━━━━━\u001b[0m\u001b[37m\u001b[0m \u001b[1m1s\u001b[0m 2ms/step - accuracy: 0.8251 - loss: 0.4025 - val_accuracy: 0.8172 - val_loss: 0.4031 - learning_rate: 1.0000e-04\n",
      "Epoch 43/500\n",
      "\u001b[1m155/155\u001b[0m \u001b[32m━━━━━━━━━━━━━━━━━━━━\u001b[0m\u001b[37m\u001b[0m \u001b[1m0s\u001b[0m 2ms/step - accuracy: 0.8063 - loss: 0.4195 - val_accuracy: 0.8172 - val_loss: 0.4028 - learning_rate: 1.0000e-04\n",
      "Epoch 44/500\n",
      "\u001b[1m155/155\u001b[0m \u001b[32m━━━━━━━━━━━━━━━━━━━━\u001b[0m\u001b[37m\u001b[0m \u001b[1m0s\u001b[0m 2ms/step - accuracy: 0.8072 - loss: 0.4240 - val_accuracy: 0.8163 - val_loss: 0.4025 - learning_rate: 1.0000e-04\n",
      "Epoch 45/500\n",
      "\u001b[1m155/155\u001b[0m \u001b[32m━━━━━━━━━━━━━━━━━━━━\u001b[0m\u001b[37m\u001b[0m \u001b[1m0s\u001b[0m 2ms/step - accuracy: 0.8124 - loss: 0.4163 - val_accuracy: 0.8163 - val_loss: 0.4022 - learning_rate: 1.0000e-04\n",
      "Epoch 46/500\n",
      "\u001b[1m155/155\u001b[0m \u001b[32m━━━━━━━━━━━━━━━━━━━━\u001b[0m\u001b[37m\u001b[0m \u001b[1m0s\u001b[0m 2ms/step - accuracy: 0.8127 - loss: 0.4175 - val_accuracy: 0.8172 - val_loss: 0.4023 - learning_rate: 1.0000e-04\n",
      "Epoch 47/500\n",
      "\u001b[1m155/155\u001b[0m \u001b[32m━━━━━━━━━━━━━━━━━━━━\u001b[0m\u001b[37m\u001b[0m \u001b[1m0s\u001b[0m 2ms/step - accuracy: 0.8087 - loss: 0.4209 - val_accuracy: 0.8163 - val_loss: 0.4018 - learning_rate: 1.0000e-04\n",
      "Epoch 48/500\n",
      "\u001b[1m155/155\u001b[0m \u001b[32m━━━━━━━━━━━━━━━━━━━━\u001b[0m\u001b[37m\u001b[0m \u001b[1m0s\u001b[0m 2ms/step - accuracy: 0.7985 - loss: 0.4358 - val_accuracy: 0.8116 - val_loss: 0.4017 - learning_rate: 1.0000e-04\n",
      "Epoch 49/500\n",
      "\u001b[1m155/155\u001b[0m \u001b[32m━━━━━━━━━━━━━━━━━━━━\u001b[0m\u001b[37m\u001b[0m \u001b[1m0s\u001b[0m 3ms/step - accuracy: 0.7964 - loss: 0.4388 - val_accuracy: 0.8153 - val_loss: 0.4015 - learning_rate: 1.0000e-04\n",
      "Epoch 50/500\n",
      "\u001b[1m155/155\u001b[0m \u001b[32m━━━━━━━━━━━━━━━━━━━━\u001b[0m\u001b[37m\u001b[0m \u001b[1m0s\u001b[0m 2ms/step - accuracy: 0.8047 - loss: 0.4298 - val_accuracy: 0.8116 - val_loss: 0.4013 - learning_rate: 1.0000e-04\n",
      "Epoch 51/500\n",
      "\u001b[1m155/155\u001b[0m \u001b[32m━━━━━━━━━━━━━━━━━━━━\u001b[0m\u001b[37m\u001b[0m \u001b[1m0s\u001b[0m 2ms/step - accuracy: 0.8089 - loss: 0.4209 - val_accuracy: 0.8134 - val_loss: 0.4012 - learning_rate: 1.0000e-04\n",
      "Epoch 52/500\n",
      "\u001b[1m155/155\u001b[0m \u001b[32m━━━━━━━━━━━━━━━━━━━━\u001b[0m\u001b[37m\u001b[0m \u001b[1m0s\u001b[0m 2ms/step - accuracy: 0.8051 - loss: 0.4238 - val_accuracy: 0.8163 - val_loss: 0.4011 - learning_rate: 1.0000e-04\n",
      "Epoch 53/500\n",
      "\u001b[1m155/155\u001b[0m \u001b[32m━━━━━━━━━━━━━━━━━━━━\u001b[0m\u001b[37m\u001b[0m \u001b[1m0s\u001b[0m 2ms/step - accuracy: 0.8153 - loss: 0.4181 - val_accuracy: 0.8134 - val_loss: 0.4010 - learning_rate: 1.0000e-04\n",
      "Epoch 54/500\n",
      "\u001b[1m155/155\u001b[0m \u001b[32m━━━━━━━━━━━━━━━━━━━━\u001b[0m\u001b[37m\u001b[0m \u001b[1m0s\u001b[0m 3ms/step - accuracy: 0.8086 - loss: 0.4176 - val_accuracy: 0.8144 - val_loss: 0.4009 - learning_rate: 1.0000e-04\n",
      "Epoch 55/500\n",
      "\u001b[1m155/155\u001b[0m \u001b[32m━━━━━━━━━━━━━━━━━━━━\u001b[0m\u001b[37m\u001b[0m \u001b[1m0s\u001b[0m 2ms/step - accuracy: 0.8087 - loss: 0.4175 - val_accuracy: 0.8134 - val_loss: 0.4008 - learning_rate: 1.0000e-04\n",
      "Epoch 56/500\n",
      "\u001b[1m155/155\u001b[0m \u001b[32m━━━━━━━━━━━━━━━━━━━━\u001b[0m\u001b[37m\u001b[0m \u001b[1m0s\u001b[0m 3ms/step - accuracy: 0.8120 - loss: 0.4236 - val_accuracy: 0.8144 - val_loss: 0.4006 - learning_rate: 1.0000e-04\n",
      "Epoch 57/500\n",
      "\u001b[1m155/155\u001b[0m \u001b[32m━━━━━━━━━━━━━━━━━━━━\u001b[0m\u001b[37m\u001b[0m \u001b[1m0s\u001b[0m 2ms/step - accuracy: 0.8083 - loss: 0.4161 - val_accuracy: 0.8144 - val_loss: 0.4006 - learning_rate: 1.0000e-04\n",
      "Epoch 58/500\n",
      "\u001b[1m155/155\u001b[0m \u001b[32m━━━━━━━━━━━━━━━━━━━━\u001b[0m\u001b[37m\u001b[0m \u001b[1m0s\u001b[0m 3ms/step - accuracy: 0.8104 - loss: 0.4191 - val_accuracy: 0.8172 - val_loss: 0.4008 - learning_rate: 1.0000e-04\n",
      "Epoch 59/500\n",
      "\u001b[1m155/155\u001b[0m \u001b[32m━━━━━━━━━━━━━━━━━━━━\u001b[0m\u001b[37m\u001b[0m \u001b[1m0s\u001b[0m 3ms/step - accuracy: 0.8105 - loss: 0.4200 - val_accuracy: 0.8172 - val_loss: 0.4007 - learning_rate: 1.0000e-04\n",
      "Epoch 60/500\n",
      "\u001b[1m155/155\u001b[0m \u001b[32m━━━━━━━━━━━━━━━━━━━━\u001b[0m\u001b[37m\u001b[0m \u001b[1m0s\u001b[0m 2ms/step - accuracy: 0.8000 - loss: 0.4207 - val_accuracy: 0.8172 - val_loss: 0.4006 - learning_rate: 5.0000e-05\n",
      "Epoch 61/500\n",
      "\u001b[1m155/155\u001b[0m \u001b[32m━━━━━━━━━━━━━━━━━━━━\u001b[0m\u001b[37m\u001b[0m \u001b[1m0s\u001b[0m 2ms/step - accuracy: 0.8076 - loss: 0.4219 - val_accuracy: 0.8144 - val_loss: 0.4005 - learning_rate: 5.0000e-05\n",
      "Epoch 62/500\n",
      "\u001b[1m155/155\u001b[0m \u001b[32m━━━━━━━━━━━━━━━━━━━━\u001b[0m\u001b[37m\u001b[0m \u001b[1m0s\u001b[0m 3ms/step - accuracy: 0.8056 - loss: 0.4215 - val_accuracy: 0.8153 - val_loss: 0.4005 - learning_rate: 5.0000e-05\n",
      "Epoch 63/500\n",
      "\u001b[1m155/155\u001b[0m \u001b[32m━━━━━━━━━━━━━━━━━━━━\u001b[0m\u001b[37m\u001b[0m \u001b[1m0s\u001b[0m 3ms/step - accuracy: 0.8080 - loss: 0.4235 - val_accuracy: 0.8153 - val_loss: 0.4005 - learning_rate: 5.0000e-05\n",
      "Epoch 64/500\n",
      "\u001b[1m155/155\u001b[0m \u001b[32m━━━━━━━━━━━━━━━━━━━━\u001b[0m\u001b[37m\u001b[0m \u001b[1m0s\u001b[0m 3ms/step - accuracy: 0.8139 - loss: 0.4138 - val_accuracy: 0.8153 - val_loss: 0.4004 - learning_rate: 5.0000e-05\n",
      "Epoch 65/500\n",
      "\u001b[1m155/155\u001b[0m \u001b[32m━━━━━━━━━━━━━━━━━━━━\u001b[0m\u001b[37m\u001b[0m \u001b[1m1s\u001b[0m 3ms/step - accuracy: 0.8045 - loss: 0.4272 - val_accuracy: 0.8144 - val_loss: 0.4004 - learning_rate: 2.5000e-05\n",
      "Epoch 66/500\n",
      "\u001b[1m155/155\u001b[0m \u001b[32m━━━━━━━━━━━━━━━━━━━━\u001b[0m\u001b[37m\u001b[0m \u001b[1m0s\u001b[0m 2ms/step - accuracy: 0.8087 - loss: 0.4147 - val_accuracy: 0.8163 - val_loss: 0.4003 - learning_rate: 2.5000e-05\n",
      "Epoch 67/500\n",
      "\u001b[1m155/155\u001b[0m \u001b[32m━━━━━━━━━━━━━━━━━━━━\u001b[0m\u001b[37m\u001b[0m \u001b[1m0s\u001b[0m 2ms/step - accuracy: 0.8023 - loss: 0.4310 - val_accuracy: 0.8163 - val_loss: 0.4003 - learning_rate: 2.5000e-05\n",
      "Epoch 68/500\n",
      "\u001b[1m155/155\u001b[0m \u001b[32m━━━━━━━━━━━━━━━━━━━━\u001b[0m\u001b[37m\u001b[0m \u001b[1m0s\u001b[0m 3ms/step - accuracy: 0.8024 - loss: 0.4250 - val_accuracy: 0.8163 - val_loss: 0.4003 - learning_rate: 2.5000e-05\n",
      "Epoch 69/500\n",
      "\u001b[1m155/155\u001b[0m \u001b[32m━━━━━━━━━━━━━━━━━━━━\u001b[0m\u001b[37m\u001b[0m \u001b[1m0s\u001b[0m 2ms/step - accuracy: 0.8060 - loss: 0.4249 - val_accuracy: 0.8153 - val_loss: 0.4003 - learning_rate: 1.2500e-05\n",
      "Epoch 70/500\n",
      "\u001b[1m155/155\u001b[0m \u001b[32m━━━━━━━━━━━━━━━━━━━━\u001b[0m\u001b[37m\u001b[0m \u001b[1m0s\u001b[0m 3ms/step - accuracy: 0.8023 - loss: 0.4297 - val_accuracy: 0.8163 - val_loss: 0.4003 - learning_rate: 1.2500e-05\n",
      "Epoch 71/500\n",
      "\u001b[1m155/155\u001b[0m \u001b[32m━━━━━━━━━━━━━━━━━━━━\u001b[0m\u001b[37m\u001b[0m \u001b[1m1s\u001b[0m 3ms/step - accuracy: 0.8191 - loss: 0.4122 - val_accuracy: 0.8163 - val_loss: 0.4003 - learning_rate: 1.2500e-05\n",
      "Epoch 72/500\n",
      "\u001b[1m155/155\u001b[0m \u001b[32m━━━━━━━━━━━━━━━━━━━━\u001b[0m\u001b[37m\u001b[0m \u001b[1m0s\u001b[0m 3ms/step - accuracy: 0.8075 - loss: 0.4240 - val_accuracy: 0.8163 - val_loss: 0.4003 - learning_rate: 6.2500e-06\n",
      "Epoch 73/500\n",
      "\u001b[1m155/155\u001b[0m \u001b[32m━━━━━━━━━━━━━━━━━━━━\u001b[0m\u001b[37m\u001b[0m \u001b[1m0s\u001b[0m 3ms/step - accuracy: 0.8169 - loss: 0.4121 - val_accuracy: 0.8163 - val_loss: 0.4003 - learning_rate: 6.2500e-06\n",
      "Epoch 74/500\n",
      "\u001b[1m155/155\u001b[0m \u001b[32m━━━━━━━━━━━━━━━━━━━━\u001b[0m\u001b[37m\u001b[0m \u001b[1m0s\u001b[0m 2ms/step - accuracy: 0.8100 - loss: 0.4217 - val_accuracy: 0.8163 - val_loss: 0.4003 - learning_rate: 6.2500e-06\n",
      "Epoch 75/500\n",
      "\u001b[1m155/155\u001b[0m \u001b[32m━━━━━━━━━━━━━━━━━━━━\u001b[0m\u001b[37m\u001b[0m \u001b[1m0s\u001b[0m 2ms/step - accuracy: 0.8078 - loss: 0.4194 - val_accuracy: 0.8163 - val_loss: 0.4003 - learning_rate: 6.2500e-06\n",
      "Epoch 76/500\n",
      "\u001b[1m155/155\u001b[0m \u001b[32m━━━━━━━━━━━━━━━━━━━━\u001b[0m\u001b[37m\u001b[0m \u001b[1m0s\u001b[0m 2ms/step - accuracy: 0.8106 - loss: 0.4220 - val_accuracy: 0.8163 - val_loss: 0.4002 - learning_rate: 6.2500e-06\n",
      "Epoch 77/500\n",
      "\u001b[1m155/155\u001b[0m \u001b[32m━━━━━━━━━━━━━━━━━━━━\u001b[0m\u001b[37m\u001b[0m \u001b[1m1s\u001b[0m 3ms/step - accuracy: 0.8064 - loss: 0.4335 - val_accuracy: 0.8163 - val_loss: 0.4002 - learning_rate: 6.2500e-06\n",
      "Epoch 78/500\n",
      "\u001b[1m155/155\u001b[0m \u001b[32m━━━━━━━━━━━━━━━━━━━━\u001b[0m\u001b[37m\u001b[0m \u001b[1m0s\u001b[0m 3ms/step - accuracy: 0.8057 - loss: 0.4219 - val_accuracy: 0.8163 - val_loss: 0.4002 - learning_rate: 3.1250e-06\n",
      "Epoch 79/500\n",
      "\u001b[1m155/155\u001b[0m \u001b[32m━━━━━━━━━━━━━━━━━━━━\u001b[0m\u001b[37m\u001b[0m \u001b[1m0s\u001b[0m 2ms/step - accuracy: 0.8130 - loss: 0.4119 - val_accuracy: 0.8163 - val_loss: 0.4002 - learning_rate: 3.1250e-06\n",
      "Epoch 80/500\n",
      "\u001b[1m155/155\u001b[0m \u001b[32m━━━━━━━━━━━━━━━━━━━━\u001b[0m\u001b[37m\u001b[0m \u001b[1m0s\u001b[0m 2ms/step - accuracy: 0.8092 - loss: 0.4141 - val_accuracy: 0.8163 - val_loss: 0.4002 - learning_rate: 3.1250e-06\n",
      "Epoch 81/500\n",
      "\u001b[1m155/155\u001b[0m \u001b[32m━━━━━━━━━━━━━━━━━━━━\u001b[0m\u001b[37m\u001b[0m \u001b[1m0s\u001b[0m 2ms/step - accuracy: 0.8133 - loss: 0.4149 - val_accuracy: 0.8153 - val_loss: 0.4002 - learning_rate: 1.5625e-06\n",
      "Epoch 82/500\n",
      "\u001b[1m155/155\u001b[0m \u001b[32m━━━━━━━━━━━━━━━━━━━━\u001b[0m\u001b[37m\u001b[0m \u001b[1m0s\u001b[0m 2ms/step - accuracy: 0.8051 - loss: 0.4355 - val_accuracy: 0.8153 - val_loss: 0.4002 - learning_rate: 1.5625e-06\n",
      "Epoch 83/500\n",
      "\u001b[1m155/155\u001b[0m \u001b[32m━━━━━━━━━━━━━━━━━━━━\u001b[0m\u001b[37m\u001b[0m \u001b[1m1s\u001b[0m 3ms/step - accuracy: 0.8060 - loss: 0.4245 - val_accuracy: 0.8153 - val_loss: 0.4002 - learning_rate: 1.5625e-06\n",
      "Epoch 84/500\n",
      "\u001b[1m155/155\u001b[0m \u001b[32m━━━━━━━━━━━━━━━━━━━━\u001b[0m\u001b[37m\u001b[0m \u001b[1m0s\u001b[0m 3ms/step - accuracy: 0.8097 - loss: 0.4166 - val_accuracy: 0.8153 - val_loss: 0.4002 - learning_rate: 1.0000e-06\n",
      "Epoch 85/500\n",
      "\u001b[1m155/155\u001b[0m \u001b[32m━━━━━━━━━━━━━━━━━━━━\u001b[0m\u001b[37m\u001b[0m \u001b[1m0s\u001b[0m 3ms/step - accuracy: 0.8135 - loss: 0.4154 - val_accuracy: 0.8153 - val_loss: 0.4002 - learning_rate: 1.0000e-06\n",
      "Epoch 86/500\n",
      "\u001b[1m155/155\u001b[0m \u001b[32m━━━━━━━━━━━━━━━━━━━━\u001b[0m\u001b[37m\u001b[0m \u001b[1m0s\u001b[0m 3ms/step - accuracy: 0.8115 - loss: 0.4101 - val_accuracy: 0.8153 - val_loss: 0.4002 - learning_rate: 1.0000e-06\n",
      "Epoch 87/500\n",
      "\u001b[1m155/155\u001b[0m \u001b[32m━━━━━━━━━━━━━━━━━━━━\u001b[0m\u001b[37m\u001b[0m \u001b[1m1s\u001b[0m 3ms/step - accuracy: 0.8102 - loss: 0.4216 - val_accuracy: 0.8153 - val_loss: 0.4002 - learning_rate: 1.0000e-06\n",
      "Epoch 88/500\n",
      "\u001b[1m155/155\u001b[0m \u001b[32m━━━━━━━━━━━━━━━━━━━━\u001b[0m\u001b[37m\u001b[0m \u001b[1m0s\u001b[0m 3ms/step - accuracy: 0.7978 - loss: 0.4357 - val_accuracy: 0.8153 - val_loss: 0.4002 - learning_rate: 1.0000e-06\n",
      "Epoch 89/500\n",
      "\u001b[1m155/155\u001b[0m \u001b[32m━━━━━━━━━━━━━━━━━━━━\u001b[0m\u001b[37m\u001b[0m \u001b[1m0s\u001b[0m 2ms/step - accuracy: 0.8118 - loss: 0.4259 - val_accuracy: 0.8153 - val_loss: 0.4002 - learning_rate: 1.0000e-06\n",
      "Epoch 90/500\n",
      "\u001b[1m155/155\u001b[0m \u001b[32m━━━━━━━━━━━━━━━━━━━━\u001b[0m\u001b[37m\u001b[0m \u001b[1m0s\u001b[0m 2ms/step - accuracy: 0.8101 - loss: 0.4160 - val_accuracy: 0.8153 - val_loss: 0.4002 - learning_rate: 1.0000e-06\n",
      "Epoch 91/500\n",
      "\u001b[1m155/155\u001b[0m \u001b[32m━━━━━━━━━━━━━━━━━━━━\u001b[0m\u001b[37m\u001b[0m \u001b[1m0s\u001b[0m 2ms/step - accuracy: 0.8071 - loss: 0.4211 - val_accuracy: 0.8153 - val_loss: 0.4002 - learning_rate: 1.0000e-06\n",
      "Epoch 92/500\n",
      "\u001b[1m155/155\u001b[0m \u001b[32m━━━━━━━━━━━━━━━━━━━━\u001b[0m\u001b[37m\u001b[0m \u001b[1m0s\u001b[0m 2ms/step - accuracy: 0.8048 - loss: 0.4243 - val_accuracy: 0.8153 - val_loss: 0.4002 - learning_rate: 1.0000e-06\n",
      "Epoch 93/500\n",
      "\u001b[1m155/155\u001b[0m \u001b[32m━━━━━━━━━━━━━━━━━━━━\u001b[0m\u001b[37m\u001b[0m \u001b[1m0s\u001b[0m 3ms/step - accuracy: 0.8040 - loss: 0.4279 - val_accuracy: 0.8153 - val_loss: 0.4002 - learning_rate: 1.0000e-06\n",
      "Epoch 94/500\n",
      "\u001b[1m155/155\u001b[0m \u001b[32m━━━━━━━━━━━━━━━━━━━━\u001b[0m\u001b[37m\u001b[0m \u001b[1m0s\u001b[0m 2ms/step - accuracy: 0.8118 - loss: 0.4111 - val_accuracy: 0.8153 - val_loss: 0.4002 - learning_rate: 1.0000e-06\n"
     ]
    }
   ],
   "source": [
    "# Early Stopping\n",
    "early_stopping = EarlyStopping(monitor='val_loss', patience=5, restore_best_weights=True)\n",
    "reduce_lr = ReduceLROnPlateau(monitor='val_loss', factor=0.5, patience=3, min_lr=1e-6)\n",
    "\n",
    "# Fit Model\n",
    "epochs = 500\n",
    "history = model.fit(X_train, y_train, validation_data=(X_val, y_val), epochs=epochs, batch_size=32, callbacks=[early_stopping, reduce_lr])"
   ]
  },
  {
   "cell_type": "markdown",
   "id": "4f09175f",
   "metadata": {},
   "source": [
    "#### Evaluate the Model"
   ]
  },
  {
   "cell_type": "code",
   "execution_count": 24,
   "id": "d619a497",
   "metadata": {},
   "outputs": [
    {
     "name": "stdout",
     "output_type": "stream",
     "text": [
      "\u001b[1m34/34\u001b[0m \u001b[32m━━━━━━━━━━━━━━━━━━━━\u001b[0m\u001b[37m\u001b[0m \u001b[1m0s\u001b[0m 1ms/step - accuracy: 0.8098 - loss: 0.4031  \n",
      "Test Loss: 0.418583482503891\n",
      "Test Accuracy: 0.8003784418106079\n"
     ]
    }
   ],
   "source": [
    "# Evaluate the Model\n",
    "loss, accuracy = model.evaluate(X_test, y_test)\n",
    "print(f'Test Loss: {loss}')\n",
    "print(f'Test Accuracy: {accuracy}')"
   ]
  },
  {
   "cell_type": "code",
   "execution_count": 25,
   "id": "9da022ae",
   "metadata": {},
   "outputs": [
    {
     "name": "stdout",
     "output_type": "stream",
     "text": [
      "Actual class: 0\n",
      "Class Probabilities:\n",
      "\u001b[1m1/1\u001b[0m \u001b[32m━━━━━━━━━━━━━━━━━━━━\u001b[0m\u001b[37m\u001b[0m \u001b[1m0s\u001b[0m 205ms/step\n",
      "[[0.03974601]]\n",
      "\u001b[1m34/34\u001b[0m \u001b[32m━━━━━━━━━━━━━━━━━━━━\u001b[0m\u001b[37m\u001b[0m \u001b[1m0s\u001b[0m 1ms/step  \n",
      "[[674  87]\n",
      " [124 172]]\n",
      "              precision    recall  f1-score   support\n",
      "\n",
      "           0       0.84      0.89      0.86       761\n",
      "           1       0.66      0.58      0.62       296\n",
      "\n",
      "    accuracy                           0.80      1057\n",
      "   macro avg       0.75      0.73      0.74      1057\n",
      "weighted avg       0.79      0.80      0.80      1057\n",
      "\n"
     ]
    }
   ],
   "source": [
    "from sklearn.metrics import classification_report, confusion_matrix\n",
    "print('Actual class:', y_test.iloc[0])\n",
    "\n",
    "# Reshaping the input data to match the expected shape for prediction\n",
    "# Ensure X_test[0] has the correct shape\n",
    "sample = tf.reshape(X_test[0],(1, X_test.shape[1], X_test.shape[2]))\n",
    "\n",
    "# Making a prediction for the first test sample\n",
    "print('Class Probabilities:')\n",
    "predictions = model.predict(sample)\n",
    "print(predictions)\n",
    "\n",
    "# Evaluate the model\n",
    "y_pred = (model.predict(X_test) > 0.5).astype(int)\n",
    "\n",
    "# Print the confusion matrix and classification report\n",
    "print(confusion_matrix(y_test, y_pred))\n",
    "print(classification_report(y_test, y_pred))"
   ]
  },
  {
   "cell_type": "code",
   "execution_count": 26,
   "id": "3ac32fbc-3082-48bc-95ab-b97d3d90d080",
   "metadata": {},
   "outputs": [
    {
     "data": {
      "text/plain": [
       "<Axes: >"
      ]
     },
     "execution_count": 26,
     "metadata": {},
     "output_type": "execute_result"
    },
    {
     "data": {
      "image/png": "[encoded data removed]",
      "text/plain": [
       "<Figure size 640x480 with 2 Axes>"
      ]
     },
     "metadata": {},
     "output_type": "display_data"
    }
   ],
   "source": [
    "from sklearn.metrics import confusion_matrix\n",
    "import seaborn as sns\n",
    "cm2=confusion_matrix(y_test, y_pred)\n",
    "sns.heatmap(cm2, linewidths=1, annot=True, fmt='g')"
   ]
  },
  {
   "cell_type": "code",
   "execution_count": 27,
   "id": "33abf51d",
   "metadata": {},
   "outputs": [
    {
     "data": {
      "image/png": "[encoded data removed]",
      "text/plain": [
       "<Figure size 640x480 with 1 Axes>"
      ]
     },
     "metadata": {},
     "output_type": "display_data"
    }
   ],
   "source": [
    "# Plot loss vs epochs\n",
    "epoch_range = range(1, len(history.history['loss']) + 1)\n",
    "plt.plot(epoch_range, history.history['loss'])\n",
    "plt.plot(epoch_range, history.history['val_loss'])\n",
    "plt.xlabel('Epoch')\n",
    "plt.ylabel('Loss')\n",
    "plt.grid()\n",
    "plt.xlim((1, len(history.history['loss'])))\n",
    "plt.legend(['Train', 'Validation'])\n",
    "plt.show()"
   ]
  },
  {
   "cell_type": "code",
   "execution_count": 28,
   "id": "60b545a5",
   "metadata": {},
   "outputs": [
    {
     "data": {
      "image/png": "[encoded data removed]",
      "text/plain": [
       "<Figure size 640x480 with 1 Axes>"
      ]
     },
     "metadata": {},
     "output_type": "display_data"
    }
   ],
   "source": [
    "# Plot accuracy vs epochs\n",
    "plt.plot(epoch_range, history.history['accuracy'])\n",
    "plt.plot(epoch_range, history.history['val_accuracy'])\n",
    "plt.xlabel('Epoch')\n",
    "plt.ylabel('Accuracy')\n",
    "plt.grid()\n",
    "plt.xlim((1, len(history.history['accuracy'])))\n",
    "plt.legend(['Train', 'Validation'])\n",
    "plt.show()"
   ]
  },
  {
   "cell_type": "code",
   "execution_count": 29,
   "id": "f8e34a22",
   "metadata": {},
   "outputs": [
    {
     "name": "stdout",
     "output_type": "stream",
     "text": [
      "\u001b[1m34/34\u001b[0m \u001b[32m━━━━━━━━━━━━━━━━━━━━\u001b[0m\u001b[37m\u001b[0m \u001b[1m0s\u001b[0m 1ms/step \n",
      "23      0\n",
      "3114    0\n",
      "5525    0\n",
      "437     0\n",
      "3615    1\n",
      "Name: Churn, dtype: int64\n",
      "[[0.03974601]\n",
      " [0.37767416]\n",
      " [0.04135758]\n",
      " [0.06010637]\n",
      " [0.57829636]]\n"
     ]
    }
   ],
   "source": [
    "y_pred = model.predict(X_test)\n",
    "print(y_test[:5])\n",
    "print(y_pred[:5])"
   ]
  },
  {
   "cell_type": "code",
   "execution_count": 30,
   "id": "59eab5f5",
   "metadata": {},
   "outputs": [
    {
     "name": "stdout",
     "output_type": "stream",
     "text": [
      "[0, 0, 0, 0, 1]\n"
     ]
    }
   ],
   "source": [
    "y_pred =[1 if y_pred[aa]>=0.5 else 0 for aa in range(len(y_pred)) ]\n",
    "print(y_pred[:5])"
   ]
  },
  {
   "cell_type": "code",
   "execution_count": 31,
   "id": "1f5432e9",
   "metadata": {},
   "outputs": [
    {
     "name": "stdout",
     "output_type": "stream",
     "text": [
      "              precision    recall  f1-score   support\n",
      "\n",
      "           0       0.84      0.89      0.86       761\n",
      "           1       0.66      0.58      0.62       296\n",
      "\n",
      "    accuracy                           0.80      1057\n",
      "   macro avg       0.75      0.73      0.74      1057\n",
      "weighted avg       0.79      0.80      0.80      1057\n",
      "\n"
     ]
    }
   ],
   "source": [
    "print(sklearn.metrics.classification_report(y_test, y_pred))"
   ]
  }
 ],
 "metadata": {
  "kernelspec": {
   "display_name": "Python 3 (ipykernel)",
   "language": "python",
   "name": "python3"
  },
  "language_info": {
   "codemirror_mode": {
    "name": "ipython",
    "version": 3
   },
   "file_extension": ".py",
   "mimetype": "text/x-python",
   "name": "python",
   "nbconvert_exporter": "python",
   "pygments_lexer": "ipython3",
   "version": "3.12.4"
  }
 },
 "nbformat": 4,
 "nbformat_minor": 5
}
